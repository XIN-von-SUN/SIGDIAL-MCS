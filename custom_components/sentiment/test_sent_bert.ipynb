{
 "cells": [
  {
   "cell_type": "code",
   "execution_count": 1,
   "metadata": {},
   "outputs": [],
   "source": [
    "import numpy as np\n",
    "import pandas as pd\n",
    "import re, pickle, nltk\n",
    "# nltk.download('stopwords')\n",
    "# from nltk.corpus import stopwords\n",
    "# from nltk.stem import WordNetLemmatizer\n",
    "from sklearn.feature_extraction.text import CountVectorizer\n",
    "from sklearn.feature_extraction.text import TfidfTransformer\n",
    "from sklearn.model_selection import train_test_split\n",
    "from sklearn.preprocessing import StandardScaler\n",
    "from sklearn import svm\n",
    "# from sklearn.ensemble import RandomForestClassifier\n",
    "import os\n",
    "current_path = os.getcwd()\n",
    "import sentiment_custom_for_training as sent\n",
    "from transformers import pipeline\n",
    "import torch\n"
   ]
  },
  {
   "cell_type": "markdown",
   "metadata": {},
   "source": []
  },
  {
   "cell_type": "code",
   "execution_count": 3,
   "metadata": {},
   "outputs": [],
   "source": [
    "def data_load(df_own_path, df_twt_path_train, df_twt_path_test):\n",
    "\n",
    "    df_twt_train = pd.read_csv(df_twt_path_train, sep=\",\")\n",
    "    df_twt_test = pd.read_csv(df_twt_path_test, sep=\",\")\n",
    "    df_own = pd.read_table(df_own_path, sep=\" \")\n",
    "    x_own_raw, y_own_raw = df_own.Sentence.values, df_own.Label.values\n",
    "\n",
    "    df_twt_train[\"sentiment\"].replace(to_replace=\"negative\", value=0, inplace=True)\n",
    "    df_twt_train[\"sentiment\"].replace(to_replace=\"neutral\", value=2, inplace=True)\n",
    "    df_twt_train[\"sentiment\"].replace(to_replace=\"positive\", value=1, inplace=True)\n",
    "    df_twt_test[\"sentiment\"].replace(to_replace=\"negative\", value=0, inplace=True)\n",
    "    df_twt_test[\"sentiment\"].replace(to_replace=\"neutral\", value=2, inplace=True)\n",
    "    df_twt_test[\"sentiment\"].replace(to_replace=\"positive\", value=1, inplace=True)\n",
    "\n",
    "    x_raw, y_raw = list(df_twt_train.text.values) + (list(x_own_raw)), list(df_twt_train.sentiment.values) + (list(y_own_raw))\n",
    "    documents = sent.pre_processing(x_raw)\n",
    "\n",
    "    test_texts, test_labels = sent.pre_processing(list(df_twt_test.text.values)), list(df_twt_test.sentiment.values)\n",
    "\n",
    "    train_texts, train_labels = documents, y_raw\n",
    "    train_texts, val_texts, train_labels, val_labels = train_test_split(train_texts, train_labels, test_size=.2)\n",
    "    \n",
    "    return train_texts, val_texts, train_labels, val_labels, test_texts, test_labels\n",
    "\n",
    "df_own_path = current_path + \"/sentiment_data_model/sentiment_data/sentiment_data.txt\"\n",
    "df_twt_path_train, df_twt_path_test = current_path + \"/sentiment_data_model/sentiment_data/train.csv\", current_path + \"/sentiment_data_model/sentiment_data/test.csv\"\n",
    "\n",
    "train_texts, val_texts, train_labels, val_labels, test_texts, test_labels = data_load(df_own_path, df_twt_path_train, df_twt_path_test)"
   ]
  },
  {
   "cell_type": "code",
   "execution_count": 4,
   "metadata": {},
   "outputs": [
    {
     "name": "stdout",
     "output_type": "stream",
     "text": [
      "Loading BERT tokenizer...\n"
     ]
    }
   ],
   "source": [
    "from transformers import BertTokenizer\n",
    "# Load the BERT tokenizer.\n",
    "print('Loading BERT tokenizer...')\n",
    "tokenizer = BertTokenizer.from_pretrained('bert-base-uncased', do_lower_case=True)\n",
    "\n",
    "# # Print the original sentence.\n",
    "# print('Original: ', train_texts[0])\n",
    "# # Print the sentence split into tokens\n",
    "# print('Tokenized: ', tokenizer.tokenize(train_texts[0]))\n",
    "# # Print the sentence mapped to token ids.\n",
    "# print('Token IDs: ', tokenizer.convert_tokens_to_ids(tokenizer.tokenize(train_texts[0])))"
   ]
  },
  {
   "cell_type": "code",
   "execution_count": 5,
   "metadata": {},
   "outputs": [],
   "source": [
    "train_encodings = tokenizer(train_texts, truncation=True, padding=True)\n",
    "val_encodings = tokenizer(val_texts, truncation=True, padding=True)\n",
    "test_encodings = tokenizer(test_texts, truncation=True, padding=True)"
   ]
  },
  {
   "cell_type": "code",
   "execution_count": 6,
   "metadata": {},
   "outputs": [
    {
     "data": {
      "text/plain": [
       "(22030,)"
      ]
     },
     "execution_count": 6,
     "metadata": {},
     "output_type": "execute_result"
    }
   ],
   "source": [
    "np.shape(train_labels)"
   ]
  },
  {
   "cell_type": "code",
   "execution_count": 7,
   "metadata": {},
   "outputs": [
    {
     "name": "stdout",
     "output_type": "stream",
     "text": [
      "3\n",
      "22030\n"
     ]
    }
   ],
   "source": [
    "print(len(train_encodings))\n",
    "# print(train_encodings)\n",
    "print(len(train_encodings.input_ids))\n"
   ]
  },
  {
   "cell_type": "code",
   "execution_count": 8,
   "metadata": {},
   "outputs": [],
   "source": [
    "import torch\n",
    "\n",
    "class OwnData(torch.utils.data.Dataset):\n",
    "    def __init__(self, encodings, labels):\n",
    "        self.encodings = encodings\n",
    "        self.labels = labels\n",
    "\n",
    "    def __getitem__(self, idx):\n",
    "        item = {key: torch.tensor(val[idx]) for key, val in self.encodings.items()}\n",
    "        item['labels'] = torch.tensor(self.labels[idx])\n",
    "        return item\n",
    "\n",
    "    def __len__(self):\n",
    "        return len(self.labels)\n",
    "\n",
    "train_dataset = OwnData(train_encodings, train_labels)\n",
    "val_dataset = OwnData(val_encodings, val_labels)\n",
    "test_dataset = OwnData(test_encodings, test_labels)"
   ]
  },
  {
   "cell_type": "code",
   "execution_count": 9,
   "metadata": {},
   "outputs": [
    {
     "data": {
      "text/plain": [
       "{'input_ids': tensor([  101,  2197,  5219,  1997,  1996,  2154,  8299,  1056,  9148, 25856,\n",
       "          2594,  4012,  6163,  9351,  2232,   102,     0,     0,     0,     0,\n",
       "             0,     0,     0,     0,     0,     0,     0,     0,     0,     0,\n",
       "             0,     0,     0,     0,     0,     0,     0,     0,     0,     0,\n",
       "             0,     0,     0,     0,     0,     0]),\n",
       " 'token_type_ids': tensor([0, 0, 0, 0, 0, 0, 0, 0, 0, 0, 0, 0, 0, 0, 0, 0, 0, 0, 0, 0, 0, 0, 0, 0,\n",
       "         0, 0, 0, 0, 0, 0, 0, 0, 0, 0, 0, 0, 0, 0, 0, 0, 0, 0, 0, 0, 0, 0]),\n",
       " 'attention_mask': tensor([1, 1, 1, 1, 1, 1, 1, 1, 1, 1, 1, 1, 1, 1, 1, 1, 0, 0, 0, 0, 0, 0, 0, 0,\n",
       "         0, 0, 0, 0, 0, 0, 0, 0, 0, 0, 0, 0, 0, 0, 0, 0, 0, 0, 0, 0, 0, 0]),\n",
       " 'labels': tensor(2)}"
      ]
     },
     "execution_count": 9,
     "metadata": {},
     "output_type": "execute_result"
    }
   ],
   "source": [
    "test_dataset[0]"
   ]
  },
  {
   "cell_type": "code",
   "execution_count": 13,
   "metadata": {},
   "outputs": [
    {
     "name": "stdout",
     "output_type": "stream",
     "text": [
      "cpu\n"
     ]
    },
    {
     "name": "stderr",
     "output_type": "stream",
     "text": [
      "Some weights of the model checkpoint at bert-base-uncased were not used when initializing BertForSequenceClassification: ['cls.seq_relationship.bias', 'cls.predictions.decoder.weight', 'cls.predictions.transform.dense.bias', 'cls.predictions.transform.dense.weight', 'cls.predictions.bias', 'cls.predictions.transform.LayerNorm.weight', 'cls.seq_relationship.weight', 'cls.predictions.transform.LayerNorm.bias']\n",
      "- This IS expected if you are initializing BertForSequenceClassification from the checkpoint of a model trained on another task or with another architecture (e.g. initializing a BertForSequenceClassification model from a BertForPreTraining model).\n",
      "- This IS NOT expected if you are initializing BertForSequenceClassification from the checkpoint of a model that you expect to be exactly identical (initializing a BertForSequenceClassification model from a BertForSequenceClassification model).\n",
      "Some weights of BertForSequenceClassification were not initialized from the model checkpoint at bert-base-uncased and are newly initialized: ['classifier.bias', 'classifier.weight']\n",
      "You should probably TRAIN this model on a down-stream task to be able to use it for predictions and inference.\n"
     ]
    }
   ],
   "source": [
    "from torch.utils.data import DataLoader\n",
    "from transformers import BertForSequenceClassification, AdamW\n",
    "import torch.nn as nn\n",
    "\n",
    "loss_fn = nn.CrossEntropyLoss()\n",
    "\n",
    "device = torch.device('cuda') if torch.cuda.is_available() else torch.device('cpu')\n",
    "print(device)\n",
    "\n",
    "# from transformers import BertTokenizer\n",
    "# # Load the BERT tokenizer.\n",
    "# print('Loading BERT tokenizer...')\n",
    "# tokenizer = BertTokenizer.from_pretrained('bert-base-uncased', do_lower_case=True)\n",
    "\n",
    "model = BertForSequenceClassification.from_pretrained('bert-base-uncased', num_labels=3)\n",
    "model.to(device)\n",
    "model.train()\n",
    "epoch_num = 5\n",
    "\n",
    "train_loader = DataLoader(train_dataset, batch_size=128, shuffle=True)\n",
    "val_loader = DataLoader(val_dataset, batch_size=32, shuffle=True)\n",
    "test_loader = DataLoader(test_dataset, batch_size=32, shuffle=True)\n",
    "\n",
    "optim = AdamW(model.parameters(), lr=5e-5)\n",
    "\n",
    "for epoch in range(epoch_num):\n",
    "    for batch in train_loader:\n",
    "        optim.zero_grad()\n",
    "        input_ids = batch['input_ids'].to(device)\n",
    "        attention_mask = batch['attention_mask'].to(device)\n",
    "        labels = batch['labels'].to(device)\n",
    "        # print(labels.size())\n",
    "        # print(labels)\n",
    "        outputs = model(input_ids, attention_mask=attention_mask, labels=labels)\n",
    "        # print(outputs)\n",
    "        # print(outputs[0])\n",
    "        loss = outputs[0]\n",
    "        loss.backward()\n",
    "        optim.step()\n",
    "\n",
    "    model.eval()\n",
    "    # Tracking variables\n",
    "    val_accuracy = []\n",
    "    val_loss = []\n",
    "\n",
    "    # For each batch in our validation set...\n",
    "    for batch_val in val_loader:\n",
    "        # Load batch to GPU\n",
    "        # b_input_ids, b_attn_mask, b_labels = tuple(t.to(device) for t in batch)\n",
    "        input_ids = batch_val['input_ids'].to(device)\n",
    "        attention_mask = batch_val['attention_mask'].to(device)\n",
    "        labels = batch_val['labels'].to(device)\n",
    "\n",
    "        # Compute logits\n",
    "        with torch.no_grad():\n",
    "            logits = model(input_ids, attention_mask)\n",
    "\n",
    "        print(\"logits[0]: \", logits[0].size())\n",
    "        print(\"logits: \", logits.size())\n",
    "\n",
    "        # Compute loss\n",
    "        loss = loss_fn(logits[0], labels)\n",
    "        val_loss.append(loss.item())\n",
    "\n",
    "        # Get the predictions\n",
    "        preds = torch.argmax(logits[0], dim=1).flatten()\n",
    "\n",
    "        # Calculate the accuracy rate\n",
    "        accuracy = (preds == labels).cpu().numpy().mean() * 100\n",
    "        val_accuracy.append(accuracy)\n",
    "\n",
    "    # Compute the average accuracy and loss over the validation set.\n",
    "    val_loss = np.mean(val_loss)\n",
    "    val_accuracy = np.mean(val_accuracy)\n",
    "\n",
    "    print(\"epoch: \", epoch)\n",
    "    print(\"val_loss: \", val_loss)\n",
    "    print(\"val_accuracy: \", val_accuracy)"
   ]
  },
  {
   "cell_type": "code",
   "execution_count": 4,
   "metadata": {},
   "outputs": [
    {
     "name": "stdout",
     "output_type": "stream",
     "text": [
      "Loading BERT tokenizer...\n"
     ]
    }
   ],
   "source": [
    "\"\"\"\n",
    "Load fine-tuned model\n",
    "\"\"\"\n",
    "\n",
    "# # from transformers import BertTokenizer, BertForSequenceClassification, pipeline\n",
    "# # Load the BERT tokenizer.\n",
    "# print('Loading BERT tokenizer...')\n",
    "# model_path = current_path + \"/finetune_bert\"\n",
    "# tokenizer_path = model_path + \"/tokenizer/tokenizer_finetune_bert\"\n",
    "\n",
    "# tokenizer = BertTokenizer.from_pretrained(tokenizer_path, do_lower_case=True)\n",
    "# model = BertForSequenceClassification.from_pretrained(model_path)"
   ]
  },
  {
   "cell_type": "code",
   "execution_count": 34,
   "metadata": {},
   "outputs": [
    {
     "name": "stdout",
     "output_type": "stream",
     "text": [
      "[{'label': 'LABEL_1', 'score': 0.9273343086242676}]\n",
      "[{'label': 'LABEL_0', 'score': 0.9883109927177429}]\n",
      "[{'label': 'LABEL_0', 'score': 0.9912934899330139}]\n",
      "[{'label': 'LABEL_1', 'score': 0.9699274897575378}]\n"
     ]
    }
   ],
   "source": [
    "classifier = pipeline('sentiment-analysis', model=model, tokenizer=tokenizer)\n",
    "print(classifier('yes obese'))\n",
    "print(classifier('i am not obese'))\n",
    "print(classifier('not really'))\n",
    "print(classifier('why not'))"
   ]
  },
  {
   "cell_type": "code",
   "execution_count": 41,
   "metadata": {},
   "outputs": [
    {
     "data": {
      "text/plain": [
       "True"
      ]
     },
     "execution_count": 41,
     "metadata": {},
     "output_type": "execute_result"
    }
   ],
   "source": [
    "type(classifier('why not')[0]['label']=='LABEL_0')\n",
    "classifier('why not')[0]['label']=='LABEL_1'"
   ]
  },
  {
   "cell_type": "code",
   "execution_count": 6,
   "metadata": {},
   "outputs": [
    {
     "name": "stdout",
     "output_type": "stream",
     "text": [
      "SequenceClassifierOutput(loss=None, logits=tensor([[-0.6235,  0.5978]], grad_fn=<AddmmBackward>), hidden_states=None, attentions=None)\n"
     ]
    }
   ],
   "source": [
    "text = \"why not\"\n",
    "inputs = tokenizer(text, return_tensors=\"pt\")\n",
    "outputs = model(**inputs)\n",
    "print(outputs)"
   ]
  },
  {
   "cell_type": "code",
   "execution_count": 7,
   "metadata": {},
   "outputs": [
    {
     "name": "stdout",
     "output_type": "stream",
     "text": [
      "SequenceClassifierOutput(loss=None, logits=tensor([[ 0.7551, -0.8632]], grad_fn=<AddmmBackward>), hidden_states=None, attentions=None)\n"
     ]
    }
   ],
   "source": [
    "text = \"not really\"\n",
    "inputs = tokenizer(text, return_tensors=\"pt\")\n",
    "outputs = model(**inputs)\n",
    "print(outputs)"
   ]
  },
  {
   "cell_type": "code",
   "execution_count": 8,
   "metadata": {},
   "outputs": [
    {
     "name": "stdout",
     "output_type": "stream",
     "text": [
      "SequenceClassifierOutput(loss=None, logits=tensor([[-0.3874,  0.4531]], grad_fn=<AddmmBackward>), hidden_states=None, attentions=None)\n"
     ]
    }
   ],
   "source": [
    "text = \"i am not obese\"\n",
    "inputs = tokenizer(text, return_tensors=\"pt\")\n",
    "outputs = model(**inputs)\n",
    "print(outputs)"
   ]
  },
  {
   "cell_type": "code",
   "execution_count": 10,
   "metadata": {},
   "outputs": [
    {
     "name": "stdout",
     "output_type": "stream",
     "text": [
      "SequenceClassifierOutput(loss=None, logits=tensor([[-0.4157,  0.3758]], grad_fn=<AddmmBackward>), hidden_states=None, attentions=None)\n"
     ]
    }
   ],
   "source": [
    "text = \"no i am not obese\"\n",
    "inputs = tokenizer(text, return_tensors=\"pt\")\n",
    "outputs = model(**inputs)\n",
    "print(outputs)"
   ]
  },
  {
   "cell_type": "code",
   "execution_count": 11,
   "metadata": {},
   "outputs": [
    {
     "name": "stdout",
     "output_type": "stream",
     "text": [
      "SequenceClassifierOutput(loss=None, logits=tensor([[-1.0982,  0.8526]], grad_fn=<AddmmBackward>), hidden_states=None, attentions=None)\n"
     ]
    }
   ],
   "source": [
    "text = \"yes obese\"\n",
    "inputs = tokenizer(text, return_tensors=\"pt\")\n",
    "outputs = model(**inputs)\n",
    "print(outputs)"
   ]
  },
  {
   "cell_type": "code",
   "execution_count": 17,
   "metadata": {},
   "outputs": [
    {
     "name": "stdout",
     "output_type": "stream",
     "text": [
      "SequenceClassifierOutput(loss=None, logits=tensor([[0.1410, 0.2257]], grad_fn=<AddmmBackward>), hidden_states=None, attentions=None)\n",
      "tensor(1)\n"
     ]
    }
   ],
   "source": [
    "text = \"what a sad day\"\n",
    "inputs = tokenizer(text, return_tensors=\"pt\")\n",
    "outputs = model(**inputs)\n",
    "print(outputs)\n",
    "print(torch.argmax(outputs[0]))"
   ]
  },
  {
   "cell_type": "code",
   "execution_count": 14,
   "metadata": {},
   "outputs": [
    {
     "data": {
      "text/plain": [
       "('/home/xinsun/Dev_env/dev/test_bot/custom_component/finetune_bert/tokenizer/tokenizer_finetune_bert/tokenizer_config.json',\n",
       " '/home/xinsun/Dev_env/dev/test_bot/custom_component/finetune_bert/tokenizer/tokenizer_finetune_bert/special_tokens_map.json',\n",
       " '/home/xinsun/Dev_env/dev/test_bot/custom_component/finetune_bert/tokenizer/tokenizer_finetune_bert/vocab.txt',\n",
       " '/home/xinsun/Dev_env/dev/test_bot/custom_component/finetune_bert/tokenizer/tokenizer_finetune_bert/added_tokens.json')"
      ]
     },
     "execution_count": 14,
     "metadata": {},
     "output_type": "execute_result"
    }
   ],
   "source": [
    "# save\n",
    "# model_path = current_path + \"/finetune_bert\"\n",
    "# tokenizer_path = model_path + \"/tokenizer/tokenizer_finetune_bert\"\n",
    "\n",
    "# model.save_pretrained(model_path)\n",
    "# tokenizer.save_pretrained(tokenizer_path)"
   ]
  },
  {
   "cell_type": "code",
   "execution_count": null,
   "metadata": {},
   "outputs": [],
   "source": []
  },
  {
   "cell_type": "code",
   "execution_count": null,
   "metadata": {},
   "outputs": [],
   "source": []
  },
  {
   "cell_type": "code",
   "execution_count": 153,
   "metadata": {},
   "outputs": [
    {
     "name": "stdout",
     "output_type": "stream",
     "text": [
      "{'input_ids': tensor([[ 101, 2428, 3147, 2154,  102,    0,    0],\n",
      "        [ 101, 2017, 2024, 2157,  102,    0,    0],\n",
      "        [ 101, 1045, 2514, 2307,  102,    0,    0],\n",
      "        [ 101, 2498, 2569,  102,    0,    0,    0]]), 'token_type_ids': tensor([[0, 0, 0, 0, 0, 0, 0],\n",
      "        [0, 0, 0, 0, 0, 0, 0],\n",
      "        [0, 0, 0, 0, 0, 0, 0],\n",
      "        [0, 0, 0, 0, 0, 0, 0]]), 'attention_mask': tensor([[1, 1, 1, 1, 1, 0, 0],\n",
      "        [1, 1, 1, 1, 1, 0, 0],\n",
      "        [1, 1, 1, 1, 1, 0, 0],\n",
      "        [1, 1, 1, 1, 0, 0, 0]]), 'labels': tensor([0, 1, 1, 0])}\n",
      "{'input_ids': tensor([[  101,  2748,   102,     0,     0,     0,     0],\n",
      "        [  101,  1045,  2572,  6517,   102,     0,     0],\n",
      "        [  101,  1997,  2607,  2025, 15578,  3366,   102],\n",
      "        [  101,  1045,  2572,  4452,  2053,   102,     0]]), 'token_type_ids': tensor([[0, 0, 0, 0, 0, 0, 0],\n",
      "        [0, 0, 0, 0, 0, 0, 0],\n",
      "        [0, 0, 0, 0, 0, 0, 0],\n",
      "        [0, 0, 0, 0, 0, 0, 0]]), 'attention_mask': tensor([[1, 1, 1, 0, 0, 0, 0],\n",
      "        [1, 1, 1, 1, 1, 0, 0],\n",
      "        [1, 1, 1, 1, 1, 1, 1],\n",
      "        [1, 1, 1, 1, 1, 1, 0]]), 'labels': tensor([1, 0, 0, 0])}\n",
      "{'input_ids': tensor([[ 101, 1045, 2123, 2228, 2061,  102,    0],\n",
      "        [ 101, 1045, 2052, 2360, 2053,  102,    0]]), 'token_type_ids': tensor([[0, 0, 0, 0, 0, 0, 0],\n",
      "        [0, 0, 0, 0, 0, 0, 0]]), 'attention_mask': tensor([[1, 1, 1, 1, 1, 1, 0],\n",
      "        [1, 1, 1, 1, 1, 1, 0]]), 'labels': tensor([0, 0])}\n"
     ]
    }
   ],
   "source": [
    "test_loader = DataLoader(test_dataset, batch_size=4, shuffle=True)\n",
    "\n",
    "for test in test_loader:\n",
    "        print(test)        \n",
    "        input_ids = test['input_ids'].to(device)\n",
    "        attention_mask = test['attention_mask'].to(device)\n",
    "        labels = test['labels'].to(device)\n",
    "        outputs = model(input_ids, attention_mask=attention_mask, labels=labels)\n",
    " "
   ]
  },
  {
   "cell_type": "code",
   "execution_count": 147,
   "metadata": {},
   "outputs": [
    {
     "name": "stdout",
     "output_type": "stream",
     "text": [
      "[CLS] nothing special [SEP] [PAD] [PAD] [PAD]\n",
      "[CLS] i would say no [SEP] [PAD]\n",
      "[CLS] yes [SEP] [PAD] [PAD] [PAD] [PAD]\n",
      "[CLS] i am sad [SEP] [PAD] [PAD]\n",
      "[CLS] really cold day [SEP] [PAD] [PAD]\n",
      "[CLS] i don think so [SEP] [PAD]\n",
      "[CLS] i feel great [SEP] [PAD] [PAD]\n",
      "[CLS] of course not obese [SEP]\n",
      "[CLS] i am afraid no [SEP] [PAD]\n",
      "[CLS] you are right [SEP] [PAD] [PAD]\n"
     ]
    }
   ],
   "source": [
    "for i in test_encodings[\"input_ids\"]:\n",
    "    print(tokenizer.decode(i))"
   ]
  },
  {
   "cell_type": "code",
   "execution_count": null,
   "metadata": {},
   "outputs": [],
   "source": []
  },
  {
   "cell_type": "code",
   "execution_count": null,
   "metadata": {},
   "outputs": [],
   "source": []
  }
 ],
 "metadata": {
  "interpreter": {
   "hash": "55405acab877c33cdc782335713db49c794eaa039fc8a56b590eb1e715e121c9"
  },
  "kernelspec": {
   "display_name": "Python 3.7.7 64-bit ('dev': conda)",
   "name": "python3"
  },
  "language_info": {
   "codemirror_mode": {
    "name": "ipython",
    "version": 3
   },
   "file_extension": ".py",
   "mimetype": "text/x-python",
   "name": "python",
   "nbconvert_exporter": "python",
   "pygments_lexer": "ipython3",
   "version": "3.7.7"
  },
  "orig_nbformat": 4
 },
 "nbformat": 4,
 "nbformat_minor": 2
}
