{
 "cells": [
  {
   "cell_type": "code",
   "execution_count": 38,
   "metadata": {},
   "outputs": [],
   "source": [
    "import random\n",
    "import networkx as nx\n",
    "import pandas as pd\n",
    "import numpy as np\n",
    "from tqdm import tqdm\n",
    "from sklearn.decomposition import PCA\n",
    "\n",
    "import matplotlib.pyplot as plt\n",
    "%matplotlib inline"
   ]
  },
  {
   "cell_type": "code",
   "execution_count": 39,
   "metadata": {},
   "outputs": [
    {
     "data": {
      "text/html": [
       "<div>\n",
       "<style scoped>\n",
       "    .dataframe tbody tr th:only-of-type {\n",
       "        vertical-align: middle;\n",
       "    }\n",
       "\n",
       "    .dataframe tbody tr th {\n",
       "        vertical-align: top;\n",
       "    }\n",
       "\n",
       "    .dataframe thead th {\n",
       "        text-align: right;\n",
       "    }\n",
       "</style>\n",
       "<table border=\"1\" class=\"dataframe\">\n",
       "  <thead>\n",
       "    <tr style=\"text-align: right;\">\n",
       "      <th></th>\n",
       "      <th>Source</th>\n",
       "      <th>Target</th>\n",
       "    </tr>\n",
       "  </thead>\n",
       "  <tbody>\n",
       "    <tr>\n",
       "      <th>0</th>\n",
       "      <td>switch_greeting</td>\n",
       "      <td>switch_pa</td>\n",
       "    </tr>\n",
       "    <tr>\n",
       "      <th>1</th>\n",
       "      <td>switch_greeting</td>\n",
       "      <td>switch_step_count</td>\n",
       "    </tr>\n",
       "    <tr>\n",
       "      <th>2</th>\n",
       "      <td>switch_greeting</td>\n",
       "      <td>switch_memory_recall</td>\n",
       "    </tr>\n",
       "    <tr>\n",
       "      <th>3</th>\n",
       "      <td>switch_greeting</td>\n",
       "      <td>switch_goal_setting</td>\n",
       "    </tr>\n",
       "    <tr>\n",
       "      <th>4</th>\n",
       "      <td>switch_memory_recall</td>\n",
       "      <td>switch_step_count</td>\n",
       "    </tr>\n",
       "    <tr>\n",
       "      <th>5</th>\n",
       "      <td>switch_memory_recall</td>\n",
       "      <td>switch_pa</td>\n",
       "    </tr>\n",
       "    <tr>\n",
       "      <th>6</th>\n",
       "      <td>switch_memory_recall</td>\n",
       "      <td>switch_goal_setting</td>\n",
       "    </tr>\n",
       "    <tr>\n",
       "      <th>7</th>\n",
       "      <td>switch_memory_recall</td>\n",
       "      <td>switch_rating_importance</td>\n",
       "    </tr>\n",
       "    <tr>\n",
       "      <th>8</th>\n",
       "      <td>switch_pa</td>\n",
       "      <td>switch_rating_importance</td>\n",
       "    </tr>\n",
       "    <tr>\n",
       "      <th>9</th>\n",
       "      <td>switch_pa</td>\n",
       "      <td>switch_rating_confidence</td>\n",
       "    </tr>\n",
       "    <tr>\n",
       "      <th>10</th>\n",
       "      <td>switch_pa</td>\n",
       "      <td>switch_self_efficacy</td>\n",
       "    </tr>\n",
       "    <tr>\n",
       "      <th>11</th>\n",
       "      <td>switch_step_count</td>\n",
       "      <td>switch_rating_importance</td>\n",
       "    </tr>\n",
       "    <tr>\n",
       "      <th>12</th>\n",
       "      <td>switch_step_count</td>\n",
       "      <td>switch_rating_confidence</td>\n",
       "    </tr>\n",
       "    <tr>\n",
       "      <th>13</th>\n",
       "      <td>switch_step_count</td>\n",
       "      <td>switch_self_efficacy</td>\n",
       "    </tr>\n",
       "    <tr>\n",
       "      <th>14</th>\n",
       "      <td>switch_rating_importance</td>\n",
       "      <td>switch_rating_confidence</td>\n",
       "    </tr>\n",
       "    <tr>\n",
       "      <th>15</th>\n",
       "      <td>switch_rating_importance</td>\n",
       "      <td>switch_self_efficacy</td>\n",
       "    </tr>\n",
       "    <tr>\n",
       "      <th>16</th>\n",
       "      <td>switch_rating_confidence</td>\n",
       "      <td>switch_self_efficacy</td>\n",
       "    </tr>\n",
       "    <tr>\n",
       "      <th>17</th>\n",
       "      <td>switch_rating_confidence</td>\n",
       "      <td>switch_motivator</td>\n",
       "    </tr>\n",
       "    <tr>\n",
       "      <th>18</th>\n",
       "      <td>switch_self_efficacy</td>\n",
       "      <td>switch_motivator</td>\n",
       "    </tr>\n",
       "  </tbody>\n",
       "</table>\n",
       "</div>"
      ],
      "text/plain": [
       "                      Source                    Target\n",
       "0            switch_greeting                 switch_pa\n",
       "1            switch_greeting         switch_step_count\n",
       "2            switch_greeting      switch_memory_recall\n",
       "3            switch_greeting       switch_goal_setting\n",
       "4       switch_memory_recall         switch_step_count\n",
       "5       switch_memory_recall                 switch_pa\n",
       "6       switch_memory_recall       switch_goal_setting\n",
       "7       switch_memory_recall  switch_rating_importance\n",
       "8                  switch_pa  switch_rating_importance\n",
       "9                  switch_pa  switch_rating_confidence\n",
       "10                 switch_pa      switch_self_efficacy\n",
       "11         switch_step_count  switch_rating_importance\n",
       "12         switch_step_count  switch_rating_confidence\n",
       "13         switch_step_count      switch_self_efficacy\n",
       "14  switch_rating_importance  switch_rating_confidence\n",
       "15  switch_rating_importance      switch_self_efficacy\n",
       "16  switch_rating_confidence      switch_self_efficacy\n",
       "17  switch_rating_confidence          switch_motivator\n",
       "18      switch_self_efficacy          switch_motivator"
      ]
     },
     "execution_count": 39,
     "metadata": {},
     "output_type": "execute_result"
    }
   ],
   "source": [
    "pipelines = pd.read_csv('./df_pipe.csv', header=0, index_col=0, sep=';').dropna().reset_index(drop=True)\n",
    "pipelines"
   ]
  },
  {
   "cell_type": "code",
   "execution_count": 40,
   "metadata": {},
   "outputs": [
    {
     "name": "stdout",
     "output_type": "stream",
     "text": [
      "directed graph: True\n",
      "number of nodes is: 9\n",
      "all_nodes is: ['switch_greeting', 'switch_pa', 'switch_step_count', 'switch_memory_recall', 'switch_goal_setting', 'switch_rating_importance', 'switch_rating_confidence', 'switch_self_efficacy', 'switch_motivator']\n"
     ]
    }
   ],
   "source": [
    "G = nx.from_pandas_edgelist(pipelines, \"Source\", \"Target\", create_using=nx.DiGraph())\n",
    "\n",
    "print(f'directed graph: {nx.is_directed(G)}')\n",
    "print(f'number of nodes is: {len(G)}')\n",
    "\n",
    "all_nodes = list(G.nodes())\n",
    "print(f'all_nodes is: {all_nodes}')"
   ]
  },
  {
   "cell_type": "code",
   "execution_count": 41,
   "metadata": {},
   "outputs": [
    {
     "data": {
      "text/plain": [
       "['switch_pa',\n",
       " 'switch_rating_importance',\n",
       " 'switch_self_efficacy',\n",
       " 'switch_motivator']"
      ]
     },
     "execution_count": 41,
     "metadata": {},
     "output_type": "execute_result"
    }
   ],
   "source": [
    "# function to generate random walk sequences of given node\n",
    "def get_randomwalk(node, path_length):\n",
    "    random_walk = [node]\n",
    "    for i in range(path_length-1):\n",
    "        temp = list(G.neighbors(node))\n",
    "        temp = list(set(temp) - set(random_walk))    \n",
    "        if len(temp) == 0:\n",
    "            break\n",
    "\n",
    "        random_node = random.choice(temp)\n",
    "        random_walk.append(random_node)\n",
    "        node = random_node\n",
    "        \n",
    "    return random_walk\n",
    "\n",
    "\n",
    "random_walk = get_randomwalk('switch_pa', 10)\n",
    "random_walk"
   ]
  },
  {
   "cell_type": "code",
   "execution_count": 42,
   "metadata": {},
   "outputs": [
    {
     "name": "stderr",
     "output_type": "stream",
     "text": [
      "100%|██████████| 9/9 [00:00<00:00, 53926.77it/s]\n",
      "100%|██████████| 9/9 [00:00<00:00, 30690.03it/s]\n",
      "100%|██████████| 9/9 [00:00<00:00, 35147.80it/s]"
     ]
    },
    {
     "name": "stdout",
     "output_type": "stream",
     "text": [
      "135\n"
     ]
    },
    {
     "name": "stderr",
     "output_type": "stream",
     "text": [
      "\n"
     ]
    },
    {
     "data": {
      "text/plain": [
       "[['switch_greeting', 'switch_memory_recall'],\n",
       " ['switch_greeting', 'switch_step_count'],\n",
       " ['switch_greeting', 'switch_goal_setting']]"
      ]
     },
     "execution_count": 42,
     "metadata": {},
     "output_type": "execute_result"
    }
   ],
   "source": [
    "# function to generate random walk sequences of given graph G\n",
    "def get_randomwalk_sequences(G, number_sequence_per_node):\n",
    "    all_nodes = list(G.nodes())\n",
    "\n",
    "    random_walks = []\n",
    "    sentence_length = [2, 4, 6]\n",
    "    \n",
    "    for lens in sentence_length:\n",
    "        for n in tqdm(all_nodes):\n",
    "            for i in range(number_sequence_per_node): # number of sequences start from one node\n",
    "                random_walks.append(get_randomwalk(n, lens)) # length of sentence\n",
    "\n",
    "    return random_walks\n",
    "\n",
    "random_walks = get_randomwalk_sequences(G, 5)\n",
    "print(len(random_walks))\n",
    "\n",
    "random_walks[:3]"
   ]
  },
  {
   "cell_type": "code",
   "execution_count": 43,
   "metadata": {},
   "outputs": [
    {
     "data": {
      "text/plain": [
       "6"
      ]
     },
     "execution_count": 43,
     "metadata": {},
     "output_type": "execute_result"
    }
   ],
   "source": [
    "# Finding the length of the longest string in our data\n",
    "maxlen = len(max(random_walks, key=len))\n",
    "maxlen"
   ]
  },
  {
   "cell_type": "code",
   "execution_count": 76,
   "metadata": {},
   "outputs": [
    {
     "name": "stdout",
     "output_type": "stream",
     "text": [
      "Word2Vec(vocab=9, vector_size=100, alpha=0.06)\n"
     ]
    },
    {
     "data": {
      "text/plain": [
       "[('switch_rating_confidence', 0.9958100914955139),\n",
       " ('switch_rating_importance', 0.9949781894683838),\n",
       " ('switch_goal_setting', 0.9946457743644714),\n",
       " ('switch_memory_recall', 0.9938341975212097),\n",
       " ('switch_step_count', 0.9931740760803223),\n",
       " ('switch_self_efficacy', 0.9926184415817261),\n",
       " ('switch_motivator', 0.9914268255233765),\n",
       " ('switch_pa', 0.9905545711517334)]"
      ]
     },
     "execution_count": 76,
     "metadata": {},
     "output_type": "execute_result"
    }
   ],
   "source": [
    "from gensim.models import Word2Vec\n",
    "\n",
    "import warnings\n",
    "warnings.filterwarnings('ignore')\n",
    "\n",
    "# train word2vec model\n",
    "model = Word2Vec(window=3, alpha=0.06)\n",
    "model.build_vocab(random_walks, progress_per=2)\n",
    "model.train(random_walks, total_examples = model.corpus_count, epochs=250, report_delay=1)\n",
    "\n",
    "print(model)\n",
    "\n",
    "# find top n similar nodes \n",
    "model.wv.most_similar('switch_greeting')"
   ]
  },
  {
   "cell_type": "code",
   "execution_count": 77,
   "metadata": {},
   "outputs": [
    {
     "name": "stdout",
     "output_type": "stream",
     "text": [
      "(100,)\n"
     ]
    },
    {
     "data": {
      "text/plain": [
       "array([-0.22020721,  0.18332928], dtype=float32)"
      ]
     },
     "execution_count": 77,
     "metadata": {},
     "output_type": "execute_result"
    }
   ],
   "source": [
    "sim_mat = model.wv[\"switch_rating_importance\"]\n",
    "print(np.shape(sim_mat))\n",
    "sim_mat[:2]"
   ]
  },
  {
   "cell_type": "code",
   "execution_count": 78,
   "metadata": {},
   "outputs": [
    {
     "data": {
      "image/png": "[encoded data removed]",
      "text/plain": [
       "<Figure size 1440x864 with 1 Axes>"
      ]
     },
     "metadata": {
      "needs_background": "light"
     },
     "output_type": "display_data"
    }
   ],
   "source": [
    "def plot_nodes(word_list, save_name):\n",
    "    X = model.wv[word_list]\n",
    "\n",
    "    # reduce dimensions to 2\n",
    "    pca = PCA(n_components=2)\n",
    "    result = pca.fit_transform(X)\n",
    "    \n",
    "    plt.figure(figsize=(20,12))\n",
    "    # create a scatter plot of the projection\n",
    "    plt.scatter(result[:, 0], result[:, 1])\n",
    "    for i, word in enumerate(word_list):\n",
    "        plt.annotate(word, xy=(result[i, 0], result[i, 1]))\n",
    "\n",
    "    # plt.savefig(save_name)\n",
    "    plt.show()\n",
    "\n",
    "\n",
    "plot_nodes(all_nodes, 'all_nodes.jpg')"
   ]
  },
  {
   "cell_type": "code",
   "execution_count": 79,
   "metadata": {},
   "outputs": [
    {
     "name": "stdout",
     "output_type": "stream",
     "text": [
      "(9, 4)\n"
     ]
    },
    {
     "data": {
      "image/png": "[encoded data removed]",
      "text/plain": [
       "<Figure size 720x432 with 1 Axes>"
      ]
     },
     "metadata": {
      "needs_background": "light"
     },
     "output_type": "display_data"
    }
   ],
   "source": [
    "from sklearn.preprocessing import StandardScaler\n",
    "\n",
    "emb_node = model.wv[all_nodes]\n",
    "\n",
    "scaler = StandardScaler()\n",
    "scaler.fit(emb_node)\n",
    "emb_node_scale = scaler.transform(emb_node)\n",
    "\n",
    "\n",
    "def plot_emb_sim(X, word_list, save_name):\n",
    "    #X = model[word_list]\n",
    "    # reduce dimensions to 2\n",
    "    pca = PCA(n_components=4)\n",
    "    result = pca.fit_transform(X)\n",
    "    print(np.shape(result))\n",
    "    \n",
    "    plt.figure(figsize=(10,6))\n",
    "    # create a scatter plot of the projection\n",
    "    plt.scatter(result[:, 0], result[:, 1])\n",
    "\n",
    "    for i, word in enumerate(word_list):\n",
    "        plt.annotate(word, xy=(result[i, 0], result[i, 1]))\n",
    "\n",
    "    # plt.savefig(save_name)\n",
    "    plt.show()\n",
    "\n",
    "\n",
    "plot_emb_sim(emb_node_scale, all_nodes, 'emb_node_scale.png')"
   ]
  },
  {
   "cell_type": "code",
   "execution_count": 58,
   "metadata": {},
   "outputs": [],
   "source": [
    "# np.save('./emb_node.npy', emb_node) "
   ]
  },
  {
   "cell_type": "code",
   "execution_count": 80,
   "metadata": {},
   "outputs": [],
   "source": [
    "# calculate and save embedding dict\n",
    "# emb_node = model.wv[all_nodes]\n",
    "dict_node_emb = dict()\n",
    "for i, item in enumerate(all_nodes):\n",
    "    dict_node_emb[item] = emb_node[i]\n",
    "\n",
    "# np.save('./dict_node_emb.npy', dict_node_emb) "
   ]
  },
  {
   "cell_type": "code",
   "execution_count": 81,
   "metadata": {},
   "outputs": [
    {
     "name": "stdout",
     "output_type": "stream",
     "text": [
      "9\n"
     ]
    },
    {
     "data": {
      "text/plain": [
       "(100,)"
      ]
     },
     "execution_count": 81,
     "metadata": {},
     "output_type": "execute_result"
    }
   ],
   "source": [
    "print(len(dict_node_emb))\n",
    "np.shape(dict_node_emb['switch_greeting'])"
   ]
  },
  {
   "cell_type": "code",
   "execution_count": 82,
   "metadata": {},
   "outputs": [],
   "source": [
    "# Construct sequence dataset for training and testing\n",
    "df_flow = pd.DataFrame(random_walks)\n",
    "df_flow.to_csv('./df_flow.csv')"
   ]
  },
  {
   "cell_type": "markdown",
   "metadata": {},
   "source": [
    "---"
   ]
  },
  {
   "cell_type": "code",
   "execution_count": 85,
   "metadata": {},
   "outputs": [
    {
     "name": "stdout",
     "output_type": "stream",
     "text": [
      "13\n"
     ]
    }
   ],
   "source": [
    "oper2ind = dict()\n",
    "for i, item in enumerate(all_nodes):\n",
    "    oper2ind[item] = i\n",
    "\n",
    "oper2ind['PAD_IDX'] = 9\n",
    "oper2ind['UNK_IDX'] = 10\n",
    "oper2ind['BOS'] = 11\n",
    "oper2ind['EOS'] = 12\n",
    "\n",
    "ind2oper = dict()\n",
    "for i, item in enumerate(oper2ind):\n",
    "    ind2oper[i] = item\n",
    "\n",
    "print(len(ind2oper))"
   ]
  },
  {
   "cell_type": "code",
   "execution_count": 87,
   "metadata": {},
   "outputs": [],
   "source": [
    "# # save\n",
    "# file_oper2ind = './oper_ind/oper2ind.npy'\n",
    "# file_ind2oper = './oper_ind/ind2oper.npy'\n",
    "# np.save(file_oper2ind, oper2ind)\n",
    "# np.save(file_ind2oper, ind2oper)\n",
    "\n",
    "# # load\n",
    "# d2 = np.load(file_oper2ind, allow_pickle=True).item()"
   ]
  },
  {
   "cell_type": "code",
   "execution_count": 91,
   "metadata": {},
   "outputs": [
    {
     "data": {
      "text/html": [
       "<div>\n",
       "<style scoped>\n",
       "    .dataframe tbody tr th:only-of-type {\n",
       "        vertical-align: middle;\n",
       "    }\n",
       "\n",
       "    .dataframe tbody tr th {\n",
       "        vertical-align: top;\n",
       "    }\n",
       "\n",
       "    .dataframe thead th {\n",
       "        text-align: right;\n",
       "    }\n",
       "</style>\n",
       "<table border=\"1\" class=\"dataframe\">\n",
       "  <thead>\n",
       "    <tr style=\"text-align: right;\">\n",
       "      <th></th>\n",
       "      <th>0</th>\n",
       "      <th>1</th>\n",
       "      <th>2</th>\n",
       "      <th>3</th>\n",
       "      <th>4</th>\n",
       "      <th>5</th>\n",
       "    </tr>\n",
       "  </thead>\n",
       "  <tbody>\n",
       "    <tr>\n",
       "      <th>0</th>\n",
       "      <td>switch_greeting</td>\n",
       "      <td>switch_memory_recall</td>\n",
       "      <td>PAD_IDX</td>\n",
       "      <td>PAD_IDX</td>\n",
       "      <td>PAD_IDX</td>\n",
       "      <td>PAD_IDX</td>\n",
       "    </tr>\n",
       "    <tr>\n",
       "      <th>1</th>\n",
       "      <td>switch_greeting</td>\n",
       "      <td>switch_step_count</td>\n",
       "      <td>PAD_IDX</td>\n",
       "      <td>PAD_IDX</td>\n",
       "      <td>PAD_IDX</td>\n",
       "      <td>PAD_IDX</td>\n",
       "    </tr>\n",
       "    <tr>\n",
       "      <th>2</th>\n",
       "      <td>switch_greeting</td>\n",
       "      <td>switch_goal_setting</td>\n",
       "      <td>PAD_IDX</td>\n",
       "      <td>PAD_IDX</td>\n",
       "      <td>PAD_IDX</td>\n",
       "      <td>PAD_IDX</td>\n",
       "    </tr>\n",
       "  </tbody>\n",
       "</table>\n",
       "</div>"
      ],
      "text/plain": [
       "                 0                     1        2        3        4        5\n",
       "0  switch_greeting  switch_memory_recall  PAD_IDX  PAD_IDX  PAD_IDX  PAD_IDX\n",
       "1  switch_greeting     switch_step_count  PAD_IDX  PAD_IDX  PAD_IDX  PAD_IDX\n",
       "2  switch_greeting   switch_goal_setting  PAD_IDX  PAD_IDX  PAD_IDX  PAD_IDX"
      ]
     },
     "execution_count": 91,
     "metadata": {},
     "output_type": "execute_result"
    }
   ],
   "source": [
    "df_flow = df_flow.fillna('PAD_IDX', inplace=False)\n",
    "df_flow.head(3)"
   ]
  },
  {
   "cell_type": "markdown",
   "metadata": {},
   "source": [
    "### RNN for next operation prediction recom"
   ]
  },
  {
   "cell_type": "code",
   "execution_count": 92,
   "metadata": {},
   "outputs": [],
   "source": [
    "# get training dataset\n",
    "df_flow_ids = []\n",
    "for i in range(len(df_flow)):\n",
    "    lists = [oper2ind[str(j)] for j in df_flow.iloc[i] if j != 'PAD_IDX']\n",
    "    #print(lists)\n",
    "    df_flow_ids.append(lists)\n",
    "\n",
    "random.shuffle(df_flow_ids)"
   ]
  },
  {
   "cell_type": "code",
   "execution_count": 93,
   "metadata": {},
   "outputs": [
    {
     "data": {
      "text/plain": [
       "6"
      ]
     },
     "execution_count": 93,
     "metadata": {},
     "output_type": "execute_result"
    }
   ],
   "source": [
    "# Finding the length of the longest string in our data\n",
    "maxlen = len(max(df_flow_ids, key=len))\n",
    "maxlen"
   ]
  },
  {
   "cell_type": "code",
   "execution_count": 94,
   "metadata": {},
   "outputs": [
    {
     "name": "stdout",
     "output_type": "stream",
     "text": [
      "128\n",
      "7\n"
     ]
    }
   ],
   "source": [
    "from sklearn.model_selection import train_test_split\n",
    "\n",
    "train, test = train_test_split(df_flow_ids, test_size=0.05)\n",
    "print(len(train))\n",
    "print(len(test))"
   ]
  },
  {
   "cell_type": "code",
   "execution_count": 95,
   "metadata": {},
   "outputs": [
    {
     "name": "stdout",
     "output_type": "stream",
     "text": [
      "Input Sequence: [5, 7, 9, 9, 9, 9]\n",
      "Target Sequence: [7, 8, 9, 9, 9, 9]\n",
      "Input Sequence: [9, 9, 9, 9, 9, 9]\n",
      "Target Sequence: [9, 9, 9, 9, 9, 9]\n",
      "Input Sequence: [9, 9, 9, 9, 9, 9]\n",
      "Target Sequence: [9, 9, 9, 9, 9, 9]\n",
      "Input Sequence: [0, 1, 6, 9, 9, 9]\n",
      "Target Sequence: [1, 6, 8, 9, 9, 9]\n",
      "Input Sequence: [5, 7, 9, 9, 9, 9]\n",
      "Target Sequence: [7, 8, 9, 9, 9, 9]\n",
      "Input Sequence: [5, 6, 9, 9, 9, 9]\n",
      "Target Sequence: [6, 8, 9, 9, 9, 9]\n",
      "Input Sequence: [6, 9, 9, 9, 9, 9]\n",
      "Target Sequence: [8, 9, 9, 9, 9, 9]\n",
      "Input Sequence: [2, 7, 9, 9, 9, 9]\n",
      "Target Sequence: [7, 8, 9, 9, 9, 9]\n",
      "Input Sequence: [1, 9, 9, 9, 9, 9]\n",
      "Target Sequence: [6, 9, 9, 9, 9, 9]\n",
      "Input Sequence: [6, 9, 9, 9, 9, 9]\n",
      "Target Sequence: [8, 9, 9, 9, 9, 9]\n",
      "Input Sequence: [7, 9, 9, 9, 9, 9]\n",
      "Target Sequence: [8, 9, 9, 9, 9, 9]\n",
      "Input Sequence: [0, 1, 5, 6, 9, 9]\n",
      "Target Sequence: [1, 5, 6, 8, 9, 9]\n",
      "Input Sequence: [3, 9, 9, 9, 9, 9]\n",
      "Target Sequence: [4, 9, 9, 9, 9, 9]\n",
      "Input Sequence: [6, 7, 9, 9, 9, 9]\n",
      "Target Sequence: [7, 8, 9, 9, 9, 9]\n",
      "Input Sequence: [1, 7, 9, 9, 9, 9]\n",
      "Target Sequence: [7, 8, 9, 9, 9, 9]\n",
      "Input Sequence: [9, 9, 9, 9, 9, 9]\n",
      "Target Sequence: [9, 9, 9, 9, 9, 9]\n",
      "Input Sequence: [0, 1, 7, 9, 9, 9]\n",
      "Target Sequence: [1, 7, 8, 9, 9, 9]\n",
      "Input Sequence: [3, 9, 9, 9, 9, 9]\n",
      "Target Sequence: [4, 9, 9, 9, 9, 9]\n",
      "Input Sequence: [6, 9, 9, 9, 9, 9]\n",
      "Target Sequence: [8, 9, 9, 9, 9, 9]\n",
      "Input Sequence: [3, 5, 7, 9, 9, 9]\n",
      "Target Sequence: [5, 7, 8, 9, 9, 9]\n",
      "Input Sequence: [1, 7, 9, 9, 9, 9]\n",
      "Target Sequence: [7, 8, 9, 9, 9, 9]\n",
      "Input Sequence: [1, 9, 9, 9, 9, 9]\n",
      "Target Sequence: [7, 9, 9, 9, 9, 9]\n",
      "Input Sequence: [1, 5, 7, 9, 9, 9]\n",
      "Target Sequence: [5, 7, 8, 9, 9, 9]\n",
      "Input Sequence: [1, 9, 9, 9, 9, 9]\n",
      "Target Sequence: [7, 9, 9, 9, 9, 9]\n",
      "Input Sequence: [2, 6, 9, 9, 9, 9]\n",
      "Target Sequence: [6, 8, 9, 9, 9, 9]\n",
      "Input Sequence: [1, 5, 7, 9, 9, 9]\n",
      "Target Sequence: [5, 7, 8, 9, 9, 9]\n",
      "Input Sequence: [9, 9, 9, 9, 9, 9]\n",
      "Target Sequence: [9, 9, 9, 9, 9, 9]\n",
      "Input Sequence: [5, 6, 9, 9, 9, 9]\n",
      "Target Sequence: [6, 8, 9, 9, 9, 9]\n",
      "Input Sequence: [2, 9, 9, 9, 9, 9]\n",
      "Target Sequence: [6, 9, 9, 9, 9, 9]\n",
      "Input Sequence: [7, 9, 9, 9, 9, 9]\n",
      "Target Sequence: [8, 9, 9, 9, 9, 9]\n",
      "Input Sequence: [9, 9, 9, 9, 9, 9]\n",
      "Target Sequence: [9, 9, 9, 9, 9, 9]\n",
      "Input Sequence: [5, 9, 9, 9, 9, 9]\n",
      "Target Sequence: [7, 9, 9, 9, 9, 9]\n",
      "Input Sequence: [5, 7, 9, 9, 9, 9]\n",
      "Target Sequence: [7, 8, 9, 9, 9, 9]\n",
      "Input Sequence: [3, 5, 6, 9, 9, 9]\n",
      "Target Sequence: [5, 6, 8, 9, 9, 9]\n",
      "Input Sequence: [7, 9, 9, 9, 9, 9]\n",
      "Target Sequence: [8, 9, 9, 9, 9, 9]\n",
      "Input Sequence: [9, 9, 9, 9, 9, 9]\n",
      "Target Sequence: [9, 9, 9, 9, 9, 9]\n",
      "Input Sequence: [9, 9, 9, 9, 9, 9]\n",
      "Target Sequence: [9, 9, 9, 9, 9, 9]\n",
      "Input Sequence: [1, 7, 9, 9, 9, 9]\n",
      "Target Sequence: [7, 8, 9, 9, 9, 9]\n",
      "Input Sequence: [1, 5, 6, 9, 9, 9]\n",
      "Target Sequence: [5, 6, 7, 9, 9, 9]\n",
      "Input Sequence: [0, 2, 6, 9, 9, 9]\n",
      "Target Sequence: [2, 6, 8, 9, 9, 9]\n",
      "Input Sequence: [7, 9, 9, 9, 9, 9]\n",
      "Target Sequence: [8, 9, 9, 9, 9, 9]\n",
      "Input Sequence: [7, 9, 9, 9, 9, 9]\n",
      "Target Sequence: [8, 9, 9, 9, 9, 9]\n",
      "Input Sequence: [0, 1, 5, 9, 9, 9]\n",
      "Target Sequence: [1, 5, 6, 9, 9, 9]\n",
      "Input Sequence: [7, 9, 9, 9, 9, 9]\n",
      "Target Sequence: [8, 9, 9, 9, 9, 9]\n",
      "Input Sequence: [3, 9, 9, 9, 9, 9]\n",
      "Target Sequence: [4, 9, 9, 9, 9, 9]\n",
      "Input Sequence: [9, 9, 9, 9, 9, 9]\n",
      "Target Sequence: [9, 9, 9, 9, 9, 9]\n",
      "Input Sequence: [5, 9, 9, 9, 9, 9]\n",
      "Target Sequence: [6, 9, 9, 9, 9, 9]\n",
      "Input Sequence: [9, 9, 9, 9, 9, 9]\n",
      "Target Sequence: [9, 9, 9, 9, 9, 9]\n",
      "Input Sequence: [2, 5, 7, 9, 9, 9]\n",
      "Target Sequence: [5, 7, 8, 9, 9, 9]\n",
      "Input Sequence: [6, 9, 9, 9, 9, 9]\n",
      "Target Sequence: [7, 9, 9, 9, 9, 9]\n",
      "Input Sequence: [9, 9, 9, 9, 9, 9]\n",
      "Target Sequence: [9, 9, 9, 9, 9, 9]\n",
      "Input Sequence: [3, 9, 9, 9, 9, 9]\n",
      "Target Sequence: [5, 9, 9, 9, 9, 9]\n",
      "Input Sequence: [7, 9, 9, 9, 9, 9]\n",
      "Target Sequence: [8, 9, 9, 9, 9, 9]\n",
      "Input Sequence: [3, 1, 6, 9, 9, 9]\n",
      "Target Sequence: [1, 6, 8, 9, 9, 9]\n",
      "Input Sequence: [3, 5, 6, 9, 9, 9]\n",
      "Target Sequence: [5, 6, 7, 9, 9, 9]\n",
      "Input Sequence: [7, 9, 9, 9, 9, 9]\n",
      "Target Sequence: [8, 9, 9, 9, 9, 9]\n",
      "Input Sequence: [2, 6, 7, 9, 9, 9]\n",
      "Target Sequence: [6, 7, 8, 9, 9, 9]\n",
      "Input Sequence: [3, 5, 6, 9, 9, 9]\n",
      "Target Sequence: [5, 6, 7, 9, 9, 9]\n",
      "Input Sequence: [1, 5, 6, 9, 9, 9]\n",
      "Target Sequence: [5, 6, 8, 9, 9, 9]\n",
      "Input Sequence: [9, 9, 9, 9, 9, 9]\n",
      "Target Sequence: [9, 9, 9, 9, 9, 9]\n",
      "Input Sequence: [0, 9, 9, 9, 9, 9]\n",
      "Target Sequence: [1, 9, 9, 9, 9, 9]\n",
      "Input Sequence: [0, 9, 9, 9, 9, 9]\n",
      "Target Sequence: [2, 9, 9, 9, 9, 9]\n",
      "Input Sequence: [9, 9, 9, 9, 9, 9]\n",
      "Target Sequence: [9, 9, 9, 9, 9, 9]\n",
      "Input Sequence: [6, 9, 9, 9, 9, 9]\n",
      "Target Sequence: [8, 9, 9, 9, 9, 9]\n",
      "Input Sequence: [1, 9, 9, 9, 9, 9]\n",
      "Target Sequence: [6, 9, 9, 9, 9, 9]\n",
      "Input Sequence: [9, 9, 9, 9, 9, 9]\n",
      "Target Sequence: [9, 9, 9, 9, 9, 9]\n",
      "Input Sequence: [6, 9, 9, 9, 9, 9]\n",
      "Target Sequence: [8, 9, 9, 9, 9, 9]\n",
      "Input Sequence: [9, 9, 9, 9, 9, 9]\n",
      "Target Sequence: [9, 9, 9, 9, 9, 9]\n",
      "Input Sequence: [9, 9, 9, 9, 9, 9]\n",
      "Target Sequence: [9, 9, 9, 9, 9, 9]\n",
      "Input Sequence: [0, 3, 5, 6, 7, 9]\n",
      "Target Sequence: [3, 5, 6, 7, 8, 9]\n",
      "Input Sequence: [7, 9, 9, 9, 9, 9]\n",
      "Target Sequence: [8, 9, 9, 9, 9, 9]\n",
      "Input Sequence: [1, 5, 6, 7, 9, 9]\n",
      "Target Sequence: [5, 6, 7, 8, 9, 9]\n",
      "Input Sequence: [9, 9, 9, 9, 9, 9]\n",
      "Target Sequence: [9, 9, 9, 9, 9, 9]\n",
      "Input Sequence: [3, 9, 9, 9, 9, 9]\n",
      "Target Sequence: [4, 9, 9, 9, 9, 9]\n",
      "Input Sequence: [5, 6, 7, 9, 9, 9]\n",
      "Target Sequence: [6, 7, 8, 9, 9, 9]\n",
      "Input Sequence: [5, 7, 9, 9, 9, 9]\n",
      "Target Sequence: [7, 8, 9, 9, 9, 9]\n",
      "Input Sequence: [2, 5, 7, 9, 9, 9]\n",
      "Target Sequence: [5, 7, 8, 9, 9, 9]\n",
      "Input Sequence: [6, 7, 9, 9, 9, 9]\n",
      "Target Sequence: [7, 8, 9, 9, 9, 9]\n",
      "Input Sequence: [0, 3, 9, 9, 9, 9]\n",
      "Target Sequence: [3, 4, 9, 9, 9, 9]\n",
      "Input Sequence: [6, 9, 9, 9, 9, 9]\n",
      "Target Sequence: [8, 9, 9, 9, 9, 9]\n",
      "Input Sequence: [6, 9, 9, 9, 9, 9]\n",
      "Target Sequence: [8, 9, 9, 9, 9, 9]\n",
      "Input Sequence: [9, 9, 9, 9, 9, 9]\n",
      "Target Sequence: [9, 9, 9, 9, 9, 9]\n",
      "Input Sequence: [0, 9, 9, 9, 9, 9]\n",
      "Target Sequence: [4, 9, 9, 9, 9, 9]\n",
      "Input Sequence: [2, 7, 9, 9, 9, 9]\n",
      "Target Sequence: [7, 8, 9, 9, 9, 9]\n",
      "Input Sequence: [9, 9, 9, 9, 9, 9]\n",
      "Target Sequence: [9, 9, 9, 9, 9, 9]\n",
      "Input Sequence: [0, 1, 5, 7, 9, 9]\n",
      "Target Sequence: [1, 5, 7, 8, 9, 9]\n",
      "Input Sequence: [3, 9, 9, 9, 9, 9]\n",
      "Target Sequence: [5, 9, 9, 9, 9, 9]\n",
      "Input Sequence: [2, 9, 9, 9, 9, 9]\n",
      "Target Sequence: [7, 9, 9, 9, 9, 9]\n",
      "Input Sequence: [9, 9, 9, 9, 9, 9]\n",
      "Target Sequence: [9, 9, 9, 9, 9, 9]\n",
      "Input Sequence: [9, 9, 9, 9, 9, 9]\n",
      "Target Sequence: [9, 9, 9, 9, 9, 9]\n",
      "Input Sequence: [7, 9, 9, 9, 9, 9]\n",
      "Target Sequence: [8, 9, 9, 9, 9, 9]\n",
      "Input Sequence: [9, 9, 9, 9, 9, 9]\n",
      "Target Sequence: [9, 9, 9, 9, 9, 9]\n",
      "Input Sequence: [0, 9, 9, 9, 9, 9]\n",
      "Target Sequence: [4, 9, 9, 9, 9, 9]\n",
      "Input Sequence: [9, 9, 9, 9, 9, 9]\n",
      "Target Sequence: [9, 9, 9, 9, 9, 9]\n",
      "Input Sequence: [2, 6, 7, 9, 9, 9]\n",
      "Target Sequence: [6, 7, 8, 9, 9, 9]\n",
      "Input Sequence: [9, 9, 9, 9, 9, 9]\n",
      "Target Sequence: [9, 9, 9, 9, 9, 9]\n",
      "Input Sequence: [5, 9, 9, 9, 9, 9]\n",
      "Target Sequence: [7, 9, 9, 9, 9, 9]\n",
      "Input Sequence: [0, 9, 9, 9, 9, 9]\n",
      "Target Sequence: [3, 9, 9, 9, 9, 9]\n",
      "Input Sequence: [2, 6, 7, 9, 9, 9]\n",
      "Target Sequence: [6, 7, 8, 9, 9, 9]\n",
      "Input Sequence: [2, 5, 6, 9, 9, 9]\n",
      "Target Sequence: [5, 6, 8, 9, 9, 9]\n",
      "Input Sequence: [9, 9, 9, 9, 9, 9]\n",
      "Target Sequence: [9, 9, 9, 9, 9, 9]\n",
      "Input Sequence: [9, 9, 9, 9, 9, 9]\n",
      "Target Sequence: [9, 9, 9, 9, 9, 9]\n",
      "Input Sequence: [2, 5, 7, 9, 9, 9]\n",
      "Target Sequence: [5, 7, 8, 9, 9, 9]\n",
      "Input Sequence: [1, 9, 9, 9, 9, 9]\n",
      "Target Sequence: [5, 9, 9, 9, 9, 9]\n",
      "Input Sequence: [5, 7, 9, 9, 9, 9]\n",
      "Target Sequence: [7, 8, 9, 9, 9, 9]\n",
      "Input Sequence: [5, 9, 9, 9, 9, 9]\n",
      "Target Sequence: [6, 9, 9, 9, 9, 9]\n",
      "Input Sequence: [3, 9, 9, 9, 9, 9]\n",
      "Target Sequence: [2, 9, 9, 9, 9, 9]\n",
      "Input Sequence: [9, 9, 9, 9, 9, 9]\n",
      "Target Sequence: [9, 9, 9, 9, 9, 9]\n",
      "Input Sequence: [7, 9, 9, 9, 9, 9]\n",
      "Target Sequence: [8, 9, 9, 9, 9, 9]\n",
      "Input Sequence: [2, 9, 9, 9, 9, 9]\n",
      "Target Sequence: [6, 9, 9, 9, 9, 9]\n",
      "Input Sequence: [2, 9, 9, 9, 9, 9]\n",
      "Target Sequence: [5, 9, 9, 9, 9, 9]\n",
      "Input Sequence: [9, 9, 9, 9, 9, 9]\n",
      "Target Sequence: [9, 9, 9, 9, 9, 9]\n",
      "Input Sequence: [1, 5, 6, 9, 9, 9]\n",
      "Target Sequence: [5, 6, 7, 9, 9, 9]\n",
      "Input Sequence: [9, 9, 9, 9, 9, 9]\n",
      "Target Sequence: [9, 9, 9, 9, 9, 9]\n",
      "Input Sequence: [1, 7, 9, 9, 9, 9]\n",
      "Target Sequence: [7, 8, 9, 9, 9, 9]\n",
      "Input Sequence: [9, 9, 9, 9, 9, 9]\n",
      "Target Sequence: [9, 9, 9, 9, 9, 9]\n",
      "Input Sequence: [7, 9, 9, 9, 9, 9]\n",
      "Target Sequence: [8, 9, 9, 9, 9, 9]\n",
      "Input Sequence: [5, 6, 7, 9, 9, 9]\n",
      "Target Sequence: [6, 7, 8, 9, 9, 9]\n",
      "Input Sequence: [6, 7, 9, 9, 9, 9]\n",
      "Target Sequence: [7, 8, 9, 9, 9, 9]\n",
      "Input Sequence: [3, 9, 9, 9, 9, 9]\n",
      "Target Sequence: [4, 9, 9, 9, 9, 9]\n",
      "Input Sequence: [6, 7, 9, 9, 9, 9]\n",
      "Target Sequence: [7, 8, 9, 9, 9, 9]\n",
      "Input Sequence: [7, 9, 9, 9, 9, 9]\n",
      "Target Sequence: [8, 9, 9, 9, 9, 9]\n",
      "Input Sequence: [6, 7, 9, 9, 9, 9]\n",
      "Target Sequence: [7, 8, 9, 9, 9, 9]\n",
      "Input Sequence: [2, 9, 9, 9, 9, 9]\n",
      "Target Sequence: [7, 9, 9, 9, 9, 9]\n",
      "Input Sequence: [7, 9, 9, 9, 9, 9]\n",
      "Target Sequence: [8, 9, 9, 9, 9, 9]\n",
      "Input Sequence: [5, 9, 9, 9, 9, 9]\n",
      "Target Sequence: [7, 9, 9, 9, 9, 9]\n",
      "Input Sequence: [7, 9, 9, 9, 9, 9]\n",
      "Target Sequence: [8, 9, 9, 9, 9, 9]\n",
      "Input Sequence: [5, 6, 7, 9, 9, 9]\n",
      "Target Sequence: [6, 7, 8, 9, 9, 9]\n",
      "Input Sequence: [0, 9, 9, 9, 9, 9]\n",
      "Target Sequence: [2, 9, 9, 9, 9, 9] \n",
      "\n",
      "Input Sequence: [3, 5, 7, 9, 9, 9]\n",
      "Target Sequence: [5, 7, 8, 9, 9, 9] \n",
      "\n",
      "Input Sequence: [6, 9, 9, 9, 9, 9]\n",
      "Target Sequence: [7, 9, 9, 9, 9, 9] \n",
      "\n",
      "Input Sequence: [6, 9, 9, 9, 9, 9]\n",
      "Target Sequence: [7, 9, 9, 9, 9, 9] \n",
      "\n",
      "Input Sequence: [9, 9, 9, 9, 9, 9]\n",
      "Target Sequence: [9, 9, 9, 9, 9, 9] \n",
      "\n",
      "Input Sequence: [0, 2, 6, 9, 9, 9]\n",
      "Target Sequence: [2, 6, 7, 9, 9, 9] \n",
      "\n",
      "Input Sequence: [3, 5, 6, 9, 9, 9]\n",
      "Target Sequence: [5, 6, 8, 9, 9, 9] \n",
      "\n"
     ]
    }
   ],
   "source": [
    "# Creating lists that will hold our input and target sequences\n",
    "train_input_seq = []\n",
    "train_target_seq = []\n",
    "for i in range(len(train)):\n",
    "    '''\n",
    "    # Remove last character for input sequence\n",
    "    train_input_seq.append(train[i][:-1])\n",
    "    \n",
    "    # Remove first character for target sequence\n",
    "    train_target_seq.append(train[i][1:])\n",
    "    '''\n",
    "    inputs = []\n",
    "    target = []\n",
    "    inputs.extend(train[i][:-1])\n",
    "    target.extend(train[i][1:])\n",
    "\n",
    "    while len(inputs) < maxlen:\n",
    "        inputs.append(oper2ind['PAD_IDX'])\n",
    "\n",
    "    while len(target) < maxlen:\n",
    "        target.append(oper2ind['PAD_IDX'])\n",
    "\n",
    "    train_input_seq.append(inputs)\n",
    "    train_target_seq.append(target)\n",
    "\n",
    "    print(\"Input Sequence: {}\\nTarget Sequence: {}\".format(train_input_seq[i], train_target_seq[i]))\n",
    "\n",
    "\n",
    "# Creating lists that will hold our input and target sequences\n",
    "test_input_seq = []\n",
    "test_target_seq = []\n",
    "for i in range(len(test)):\n",
    "    # Remove last character for input sequence\n",
    "    inputs = []\n",
    "    target = []\n",
    "    inputs.extend(test[i][:-1])\n",
    "    target.extend(test[i][1:])\n",
    "\n",
    "    while len(inputs) < maxlen:\n",
    "        inputs.append(oper2ind['PAD_IDX'])\n",
    "\n",
    "    while len(target) < maxlen:\n",
    "        target.append(oper2ind['PAD_IDX'])\n",
    "\n",
    "    test_input_seq.append(inputs)\n",
    "    test_target_seq.append(target)\n",
    "    \n",
    "    print(\"Input Sequence: {}\\nTarget Sequence: {} {}\".format(test_input_seq[i], test_target_seq[i], '\\n'))\n"
   ]
  },
  {
   "cell_type": "code",
   "execution_count": 96,
   "metadata": {},
   "outputs": [
    {
     "name": "stdout",
     "output_type": "stream",
     "text": [
      "13\n",
      "5\n",
      "128\n",
      "7\n"
     ]
    }
   ],
   "source": [
    "def embeddings(sequence, dict_size, seq_len, batch_size):\n",
    "    # Creating a multi-dimensional array of zeros with the desired output shape\n",
    "    features = np.zeros((batch_size, seq_len, dict_size), dtype=np.float32)\n",
    "    \n",
    "    # Replacing the 0 at the relevant character index with a 1 to represent that character\n",
    "    for i in range(batch_size):\n",
    "        for u in range(seq_len):\n",
    "            features[i, u, sequence[i][u]] = 1\n",
    "    return features\n",
    "\n",
    "\n",
    "dict_size = len(oper2ind)\n",
    "print(dict_size)\n",
    "\n",
    "seq_len = maxlen - 1\n",
    "print(seq_len)\n",
    "\n",
    "train_batch_size = len(train)\n",
    "print(train_batch_size)\n",
    "\n",
    "test_batch_size = len(test)\n",
    "print(test_batch_size)\n",
    "\n",
    "# Input shape --> (Batch Size, Sequence Length, One-Hot Encoding Size)\n",
    "train_input_seq = embeddings(train_input_seq, dict_size, seq_len, train_batch_size)\n",
    "train_target_seq = embeddings(train_target_seq, dict_size, seq_len, train_batch_size)"
   ]
  },
  {
   "cell_type": "code",
   "execution_count": 97,
   "metadata": {},
   "outputs": [
    {
     "name": "stdout",
     "output_type": "stream",
     "text": [
      "torch.Size([128, 5, 13])\n",
      "torch.Size([128, 5, 13])\n",
      "GPU not available, CPU used\n"
     ]
    }
   ],
   "source": [
    "import torch\n",
    "from torch import nn\n",
    "from torch.utils.data import TensorDataset, DataLoader\n",
    "\n",
    "train_input_seq = torch.from_numpy(train_input_seq)\n",
    "train_target_seq = torch.Tensor(train_target_seq)\n",
    "\n",
    "print(train_input_seq.size())\n",
    "print(train_target_seq.size())\n",
    "#print(test_input_seq.size())\n",
    "#print(test_target_seq.size())\n",
    "\n",
    "batch_size = 8\n",
    "\n",
    "train_data = TensorDataset(train_input_seq, train_target_seq)\n",
    "train_loader = DataLoader(train_data, shuffle=True, batch_size=batch_size)\n",
    "\n",
    "# torch.cuda.is_available() checks and returns a Boolean True if a GPU is available, else it'll return False\n",
    "is_cuda = torch.cuda.is_available()\n",
    "# If we have a GPU available, we'll set our device to GPU. We'll use this device variable later in our code.\n",
    "if is_cuda:\n",
    "    device = torch.device(\"cuda\")\n",
    "    print(\"GPU is available\")\n",
    "else:\n",
    "    device = torch.device(\"cpu\")\n",
    "    print(\"GPU not available, CPU used\")"
   ]
  },
  {
   "cell_type": "code",
   "execution_count": 98,
   "metadata": {},
   "outputs": [],
   "source": [
    "class Model(nn.Module):\n",
    "    def __init__(self, input_size, output_size, hidden_dim, n_layers):\n",
    "        super(Model, self).__init__()\n",
    "\n",
    "        # Defining some parameters\n",
    "        self.hidden_dim = hidden_dim\n",
    "        self.n_layers = n_layers\n",
    "\n",
    "        #Defining the layers\n",
    "        # RNN Layer\n",
    "        self.rnn = nn.RNN(input_size, hidden_dim, n_layers, batch_first=True)   \n",
    "        self.dropout = nn.Dropout(0.05)\n",
    "\n",
    "        # Fully connected layer\n",
    "        self.fc = nn.Linear(hidden_dim, output_size)\n",
    "    \n",
    "    def forward(self, x):\n",
    "        #print('batch_size: ', x.size())\n",
    "        batch_size = x.size(0)\n",
    "        \n",
    "        # Initializing hidden state for first input using method defined below\n",
    "        hidden = self.init_hidden(batch_size)\n",
    "\n",
    "        #print('inputs: ', x.size())\n",
    "\n",
    "        # Passing in the input and hidden state into the model and obtaining outputs\n",
    "        out, hidden = self.rnn(x, hidden)\n",
    "        #print(out.size())\n",
    "        \n",
    "        # Reshaping the outputs such that it can be fit into the fully connected layer\n",
    "        out = out.contiguous().view(-1, self.hidden_dim)\n",
    "        \n",
    "        out = self.dropout(out)\n",
    "        out = self.fc(out)\n",
    "        #print('output: ', out.size())\n",
    "        #print(out.size())\n",
    "        return out, hidden\n",
    "    \n",
    "    def init_hidden(self, batch_size):\n",
    "        # This method generates the first hidden state of zeros which we'll use in the forward pass\n",
    "        # We'll send the tensor holding the hidden state to the device we specified earlier as well\n",
    "        hidden = torch.zeros(self.n_layers, batch_size, self.hidden_dim)\n",
    "        return hidden"
   ]
  },
  {
   "cell_type": "code",
   "execution_count": 102,
   "metadata": {},
   "outputs": [],
   "source": [
    "# Instantiate the model with hyperparameters\n",
    "model = Model(input_size=dict_size, output_size=dict_size, hidden_dim=64, n_layers=1)\n",
    "# We'll also set the model to the device that we defined earlier (default is CPU)\n",
    "model.to(device)\n",
    "\n",
    "# Define hyperparameters\n",
    "n_epochs = 400\n",
    "lr=0.0005\n",
    "\n",
    "# Define Loss, Optimizer\n",
    "criterion = nn.CrossEntropyLoss()\n",
    "optimizer = torch.optim.Adam(model.parameters(), lr=lr)"
   ]
  },
  {
   "cell_type": "code",
   "execution_count": 103,
   "metadata": {},
   "outputs": [
    {
     "name": "stdout",
     "output_type": "stream",
     "text": [
      "Epoch: 10/400............. Epoch Loss: 0.7926\n",
      "Epoch: 20/400............. Epoch Loss: 0.5532\n",
      "Epoch: 30/400............. Epoch Loss: 0.4086\n",
      "Epoch: 40/400............. Epoch Loss: 0.3232\n",
      "Epoch: 50/400............. Epoch Loss: 0.2698\n",
      "Epoch: 60/400............. Epoch Loss: 0.2402\n",
      "Epoch: 70/400............. Epoch Loss: 0.2242\n",
      "Epoch: 80/400............. Epoch Loss: 0.2078\n",
      "Epoch: 90/400............. Epoch Loss: 0.2026\n",
      "Epoch: 100/400............. Epoch Loss: 0.1986\n",
      "Epoch: 110/400............. Epoch Loss: 0.1901\n",
      "Epoch: 120/400............. Epoch Loss: 0.1900\n",
      "Epoch: 130/400............. Epoch Loss: 0.1878\n",
      "Epoch: 140/400............. Epoch Loss: 0.1849\n",
      "Epoch: 150/400............. Epoch Loss: 0.1844\n",
      "Epoch: 160/400............. Epoch Loss: 0.1840\n",
      "Epoch: 170/400............. Epoch Loss: 0.1795\n",
      "Epoch: 180/400............. Epoch Loss: 0.1832\n",
      "Epoch: 190/400............. Epoch Loss: 0.1771\n",
      "Epoch: 200/400............. Epoch Loss: 0.1766\n",
      "Epoch: 210/400............. Epoch Loss: 0.1764\n",
      "Epoch: 220/400............. Epoch Loss: 0.1774\n",
      "Epoch: 230/400............. Epoch Loss: 0.1767\n",
      "Epoch: 240/400............. Epoch Loss: 0.1768\n",
      "Epoch: 250/400............. Epoch Loss: 0.1756\n",
      "Epoch: 260/400............. Epoch Loss: 0.1766\n",
      "Epoch: 270/400............. Epoch Loss: 0.1750\n",
      "Epoch: 280/400............. Epoch Loss: 0.1783\n",
      "Epoch: 290/400............. Epoch Loss: 0.1736\n",
      "Epoch: 300/400............. Epoch Loss: 0.1774\n",
      "Epoch: 310/400............. Epoch Loss: 0.1759\n",
      "Epoch: 320/400............. Epoch Loss: 0.1748\n",
      "Epoch: 330/400............. Epoch Loss: 0.1734\n",
      "Epoch: 340/400............. Epoch Loss: 0.1770\n",
      "Epoch: 350/400............. Epoch Loss: 0.1753\n",
      "Epoch: 360/400............. Epoch Loss: 0.1725\n",
      "Epoch: 370/400............. Epoch Loss: 0.1748\n",
      "Epoch: 380/400............. Epoch Loss: 0.1729\n",
      "Epoch: 390/400............. Epoch Loss: 0.1754\n",
      "Epoch: 400/400............. Epoch Loss: 0.1738\n"
     ]
    }
   ],
   "source": [
    "# Training Run\n",
    "train_loss_all = []\n",
    "\n",
    "for epoch in range(1, n_epochs + 1):\n",
    "    epoch_loss = []\n",
    "    for inputs, labels in train_loader:\n",
    "\n",
    "        optimizer.zero_grad() # Clears existing gradients from previous epoch\n",
    "\n",
    "        output, hidden = model(inputs)\n",
    "\n",
    "        #print('output: ', output.view(-1, dict_size).size())\n",
    "        #print('target_seq: ', train_target_seq.view(-1, dict_size).size())\n",
    "        #print('\\n')\n",
    "        #a = torch.max(target_seq.view(-1, dict_size), 1)[1]\n",
    "        #b = torch.max(output, 1)[1]\n",
    "        #print(a.size(), b.size())\n",
    "        #print(a, b)\n",
    "\n",
    "        loss = criterion(output, torch.max(labels.view(-1, dict_size),1)[1]) #torch.max(train_target_seq[0], 1)[1]) #\n",
    "\n",
    "        loss.backward(retain_graph=True) # Does backpropagation and calculates gradients\n",
    "        optimizer.step() # Updates the weights accordingly\n",
    "\n",
    "        # train_loss_all.append(loss.item())\n",
    "        epoch_loss.append(loss.item())\n",
    "\n",
    "    train_loss_all.append(np.mean(epoch_loss))\n",
    "\n",
    "    if epoch % 10 == 0:\n",
    "        print('Epoch: {}/{}.............'.format(epoch, n_epochs), end=' ')\n",
    "        print(\"Epoch Loss: {:.4f}\".format(np.mean(epoch_loss)))\n",
    "        "
   ]
  },
  {
   "cell_type": "code",
   "execution_count": 104,
   "metadata": {},
   "outputs": [
    {
     "data": {
      "image/png": "[encoded data removed]",
      "text/plain": [
       "<Figure size 720x360 with 1 Axes>"
      ]
     },
     "metadata": {
      "needs_background": "light"
     },
     "output_type": "display_data"
    }
   ],
   "source": [
    "def plot_loss(loss):\n",
    "    plt.figure(figsize=(10, 5))\n",
    "    plt.plot(loss, label='train_loss')\n",
    "    plt.legend()\n",
    "    plt.title('Training Results')\n",
    "    plt.xlabel('epoch')\n",
    "    plt.ylabel('loss')\n",
    "    plt.show()\n",
    "\n",
    "plot_loss(train_loss_all)"
   ]
  },
  {
   "cell_type": "code",
   "execution_count": 106,
   "metadata": {},
   "outputs": [
    {
     "data": {
      "text/plain": [
       "'\\n# load\\nmodel = Seq2Seq(encoder, decoder)   # TheModelClass(*args, **kwargs)\\nmodel.load_state_dict(torch.load(PATH))\\nmodel.eval()\\n'"
      ]
     },
     "execution_count": 106,
     "metadata": {},
     "output_type": "execute_result"
    }
   ],
   "source": [
    "PATH = './model/model_rnn.pt'\n",
    "\n",
    "# save\n",
    "torch.save(model.state_dict(), PATH)\n",
    "\n",
    "'''\n",
    "# load\n",
    "model = Seq2Seq(encoder, decoder)   # TheModelClass(*args, **kwargs)\n",
    "model.load_state_dict(torch.load(PATH))\n",
    "model.eval()\n",
    "'''"
   ]
  },
  {
   "cell_type": "code",
   "execution_count": 107,
   "metadata": {},
   "outputs": [
    {
     "data": {
      "text/plain": [
       "Model(\n",
       "  (rnn): RNN(13, 64, batch_first=True)\n",
       "  (dropout): Dropout(p=0.05, inplace=False)\n",
       "  (fc): Linear(in_features=64, out_features=13, bias=True)\n",
       ")"
      ]
     },
     "execution_count": 107,
     "metadata": {},
     "output_type": "execute_result"
    }
   ],
   "source": [
    "# load\n",
    "PATH = './model/model_rnn.pt'\n",
    "model = Model(input_size=dict_size, output_size=dict_size, hidden_dim=64, n_layers=1)   # TheModelClass(*args, **kwargs)\n",
    "model.load_state_dict(torch.load(PATH))\n",
    "model.eval()"
   ]
  },
  {
   "cell_type": "code",
   "execution_count": 108,
   "metadata": {},
   "outputs": [],
   "source": [
    "# This function takes in the model and character as arguments and returns the next character prediction and hidden state\n",
    "def predict(model, operation):\n",
    "    # One-hot encoding our input to fit into the model\n",
    "    \n",
    "    operation = np.array([[oper2ind[oper] for oper in operation]])\n",
    "    operation = embeddings(operation, dict_size, operation.shape[1], 1)\n",
    "    operation = torch.from_numpy(operation)\n",
    "    operation.to(device)\n",
    "    \n",
    "    out, hidden = model(operation)\n",
    "\n",
    "    prob = nn.functional.softmax(out[-1], dim=0).data\n",
    "    # Taking the class with the highest probability score from the output\n",
    "    oper_ind = torch.max(prob, dim=0)[1].item()\n",
    "\n",
    "    return ind2oper[oper_ind], hidden\n",
    "\n",
    "\n",
    "# This function takes the desired output length and input characters as arguments, returning the produced sentence\n",
    "# This function will output next out_len prediction results\n",
    "def sample(model, out_len, start):\n",
    "    model.eval() # eval mode\n",
    "    #start = start.lower()\n",
    "    # First off, run through the starting characters\n",
    "    opers = [oper for oper in start]\n",
    "    size = out_len - len(opers)\n",
    "    res = []\n",
    "    # Now pass in the previous characters and get a new one\n",
    "    for ii in range(size):\n",
    "        pred_oper, h = predict(model, opers)\n",
    "        #if pred_oper == 'PAD_IDX':\n",
    "         #   break\n",
    "        opers.append(pred_oper)\n",
    "        res.append(pred_oper)\n",
    "    return ', '.join(res)"
   ]
  },
  {
   "cell_type": "code",
   "execution_count": 109,
   "metadata": {},
   "outputs": [],
   "source": [
    "res1 = sample(model, 5, ['switch_greeting', 'switch_pa'])\n",
    "res2 = sample(model, 5, ['switch_greeting', 'switch_pa', 'switch_rating_importance'])\n",
    "res3 = sample(model, 5, ['switch_rating_importance', 'switch_rating_confidence'])\n",
    "res4 = sample(model, 5, ['switch_step_count', 'switch_goal_setting'])"
   ]
  },
  {
   "cell_type": "code",
   "execution_count": 110,
   "metadata": {},
   "outputs": [
    {
     "name": "stdout",
     "output_type": "stream",
     "text": [
      "res1:  switch_rating_importance, switch_rating_confidence, switch_motivator \n",
      "\n",
      "res2:  switch_rating_confidence, switch_motivator \n",
      "\n",
      "res3:  switch_self_efficacy, switch_motivator, PAD_IDX \n",
      "\n",
      "res4:  switch_self_efficacy, switch_motivator, PAD_IDX \n",
      "\n"
     ]
    }
   ],
   "source": [
    "print('res1: ', res1, '\\n')\n",
    "print('res2: ', res2, '\\n')\n",
    "print('res3: ', res3, '\\n')\n",
    "print('res4: ', res4, '\\n')"
   ]
  },
  {
   "cell_type": "markdown",
   "metadata": {},
   "source": [
    "---"
   ]
  },
  {
   "cell_type": "code",
   "execution_count": 27,
   "metadata": {},
   "outputs": [],
   "source": [
    "all_pipelines = {\"switch_greeting\": 1,\n",
    "                 \"switch_pa\": 2, \n",
    "                 \"switch_step_count\": 6, \n",
    "                 \"switch_memory_recall\": 4, \n",
    "                 \"switch_goal_setting\": 3,\n",
    "                 \"switch_rating_importance\": 9, \n",
    "                 \"switch_rating_confidence\": 7, \n",
    "                 \"switch_self_efficacy\": 8, \n",
    "                 \"switch_motivator\": 5\n",
    "                } \n",
    "\n",
    "sorted_pipelines = dict(sorted(all_pipelines.items(), key=lambda x: x[1], reverse=False))"
   ]
  },
  {
   "cell_type": "code",
   "execution_count": 35,
   "metadata": {},
   "outputs": [
    {
     "data": {
      "text/plain": [
       "dict_values([1, 2, 3, 4, 5, 6, 7, 8, 9])"
      ]
     },
     "execution_count": 35,
     "metadata": {},
     "output_type": "execute_result"
    }
   ],
   "source": [
    "sorted_pipelines.values() #[-1]"
   ]
  },
  {
   "cell_type": "code",
   "execution_count": null,
   "metadata": {},
   "outputs": [],
   "source": []
  },
  {
   "cell_type": "code",
   "execution_count": null,
   "metadata": {},
   "outputs": [],
   "source": []
  }
 ],
 "metadata": {
  "interpreter": {
   "hash": "71f0fd2dd622a1c0c2ced47fc554469aa37c13224d5bdf22cdb19308b592ca9a"
  },
  "kernelspec": {
   "display_name": "Python 3.7.7 ('dev')",
   "language": "python",
   "name": "python3"
  },
  "language_info": {
   "codemirror_mode": {
    "name": "ipython",
    "version": 3
   },
   "file_extension": ".py",
   "mimetype": "text/x-python",
   "name": "python",
   "nbconvert_exporter": "python",
   "pygments_lexer": "ipython3",
   "version": "3.7.7"
  },
  "orig_nbformat": 4
 },
 "nbformat": 4,
 "nbformat_minor": 2
}
